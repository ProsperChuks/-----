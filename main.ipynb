{
 "cells": [
  {
   "cell_type": "markdown",
   "metadata": {},
   "source": [
    "### Dependencies"
   ]
  },
  {
   "cell_type": "code",
   "execution_count": null,
   "metadata": {},
   "outputs": [],
   "source": [
    "import numpy as np\n",
    "import pandas as pd\n",
    "import matplotlib.pyplot as plt\n",
    "%matplotlib inline\n",
    "from pylab import rcParams\n",
    "from statsmodels.tsa.stattools import adfuller\n",
    "from fbprophet import Prophet"
   ]
  },
  {
   "cell_type": "markdown",
   "metadata": {},
   "source": [
    "### Loading the Data"
   ]
  },
  {
   "cell_type": "code",
   "execution_count": null,
   "metadata": {},
   "outputs": [],
   "source": [
    "df = pd.read_csv('household_power_consumption.csv', na_values = ['nan', '?'],\n",
    "                 low_memory=False, infer_datetime_format=True,\n",
    "                 parse_dates={'datetime':[0,1]}, index_col=['datetime'])"
   ]
  },
  {
   "cell_type": "markdown",
   "metadata": {},
   "source": [
    "### Preprocessing"
   ]
  },
  {
   "cell_type": "markdown",
   "metadata": {},
   "source": [
    "#### filling missing values"
   ]
  },
  {
   "cell_type": "code",
   "execution_count": null,
   "metadata": {},
   "outputs": [],
   "source": [
    "print(df.isnull().sum())\n",
    "df.fillna(df.mean(),inplace=True)\n",
    "df.isnull().sum()"
   ]
  },
  {
   "cell_type": "code",
   "execution_count": null,
   "metadata": {},
   "outputs": [],
   "source": [
    "df"
   ]
  },
  {
   "cell_type": "markdown",
   "metadata": {},
   "source": [
    "#### Down-Sampling to Daily(Aggregating Minute Fields)"
   ]
  },
  {
   "cell_type": "code",
   "execution_count": null,
   "metadata": {},
   "outputs": [],
   "source": [
    "new_df = df.resample('D').sum()"
   ]
  },
  {
   "cell_type": "code",
   "execution_count": null,
   "metadata": {},
   "outputs": [],
   "source": [
    "plt.figure(figsize=(5, 3))\n",
    "new_df.Global_active_power.plot()\n",
    "plt.show()\n",
    "plt.figure(figsize=(5, 3))\n",
    "new_df.Global_reactive_power.plot(color='g')\n",
    "plt.show()\n",
    "plt.figure(figsize=(5, 3))\n",
    "new_df.Voltage.plot(color='b')\n",
    "plt.show()\n",
    "plt.figure(figsize=(5, 3))\n",
    "new_df.Global_intensity.plot(color='y')\n",
    "plt.show()\n",
    "plt.figure(figsize=(5, 3))\n",
    "new_df.Sub_metering_1.plot(color='black')\n",
    "plt.show()\n",
    "plt.figure(figsize=(5, 3))\n",
    "new_df.Sub_metering_2.plot(color='r')\n",
    "plt.show()\n",
    "plt.figure(figsize=(5, 3))\n",
    "new_df.Sub_metering_3.plot(color='b')\n",
    "plt.show()"
   ]
  },
  {
   "cell_type": "code",
   "execution_count": null,
   "metadata": {},
   "outputs": [],
   "source": [
    "from scipy.stats import pearsonr\n",
    "pear = pearsonr(df['Global_active_power'], df['Global_reactive_power'])\n",
    "print(pear)"
   ]
  },
  {
   "cell_type": "code",
   "execution_count": null,
   "metadata": {},
   "outputs": [],
   "source": [
    "pear = pearsonr(df['Voltage'],  df['Global_intensity'])\n",
    "print(pear)"
   ]
  },
  {
   "cell_type": "markdown",
   "metadata": {},
   "source": [
    "### Checking if the Time Series Data is Stationary or not"
   ]
  },
  {
   "cell_type": "code",
   "execution_count": null,
   "metadata": {},
   "outputs": [],
   "source": [
    "print('Global_active_power')\n",
    "adf_result = adfuller(new_df.Global_active_power)\n",
    "print('ADF Statistic:', adf_result[0])\n",
    "print('p-value:', adf_result[1])\n",
    "print('No. of lags used:', adf_result[2])\n",
    "print('No. of observations used :', adf_result[3])\n",
    "if adf_result[1] < 0.05:\n",
    "    print('TSD is Stationary')\n",
    "else:\n",
    "    print('TSD is not Stationary')\n",
    "print( 'Critical Values:' )\n",
    "for k, v in adf_result[4].items():\n",
    "    print( f' {k} : {v} ' )\n",
    "\n",
    "print('-------------------------------------------------------')\n",
    "print('Global_reactive_power')\n",
    "adf_result = adfuller(new_df.Global_reactive_power)\n",
    "print('ADF Statistic:', adf_result[0])\n",
    "print('p-value:', adf_result[1])\n",
    "print('No. of lags used:', adf_result[2])\n",
    "print('No. of observations used :', adf_result[3])\n",
    "if adf_result[1] < 0.05:\n",
    "    print('TSD is Stationary')\n",
    "else:\n",
    "    print('TSD is not Stationary')\n",
    "print( 'Critical Values:' )\n",
    "for k, v in adf_result[4].items():\n",
    "    print( f' {k} : {v} ' )\n",
    "\n",
    "print('-------------------------------------------------------')\n",
    "print('Global_intensity')\n",
    "adf_result = adfuller(new_df.Global_intensity)\n",
    "print('ADF Statistic:', adf_result[0])\n",
    "print('p-value:', adf_result[1])\n",
    "print('No. of lags used:', adf_result[2])\n",
    "print('No. of observations used :', adf_result[3])\n",
    "if adf_result[1] < 0.05:\n",
    "    print('TSD is Stationary')\n",
    "else:\n",
    "    print('TSD is not Stationary')\n",
    "print( 'Critical Values:' )\n",
    "for k, v in adf_result[4].items():\n",
    "    print( f' {k} : {v} ' )"
   ]
  },
  {
   "cell_type": "code",
   "execution_count": null,
   "metadata": {},
   "outputs": [],
   "source": [
    "print('Voltage')\n",
    "adf_result = adfuller(new_df.Voltage)\n",
    "print('ADF Statistic:', adf_result[0])\n",
    "print('p-value:', adf_result[1])\n",
    "print('No. of lags used:', adf_result[2])\n",
    "print('No. of observations used :', adf_result[3])\n",
    "if adf_result[1] < 0.05:\n",
    "    print('TSD is Stationary')\n",
    "else:\n",
    "    print('TSD is not Stationary')\n",
    "print( 'Critical Values:' )\n",
    "for k, v in adf_result[4].items():\n",
    "    print( f' {k} : {v} ' )\n",
    "\n",
    "print('-------------------------------------------------------')\n",
    "print('Sub_metering_1')\n",
    "adf_result = adfuller(new_df.Sub_metering_1)\n",
    "print('ADF Statistic:', adf_result[0])\n",
    "print('p-value:', adf_result[1])\n",
    "print('No. of lags used:', adf_result[2])\n",
    "print('No. of observations used :', adf_result[3])\n",
    "if adf_result[1] < 0.05:\n",
    "    print('TSD is Stationary')\n",
    "else:\n",
    "    print('TSD is not Stationary')\n",
    "print( 'Critical Values:' )\n",
    "for k, v in adf_result[4].items():\n",
    "    print( f' {k} : {v} ' )\n",
    "\n",
    "print('-------------------------------------------------------')\n",
    "print('Sub_metering_2')\n",
    "adf_result = adfuller(new_df.Sub_metering_2)\n",
    "print('ADF Statistic:', adf_result[0])\n",
    "print('p-value:', adf_result[1])\n",
    "print('No. of lags used:', adf_result[2])\n",
    "print('No. of observations used :', adf_result[3])\n",
    "if adf_result[1] < 0.05:\n",
    "    print('TSD is Stationary')\n",
    "else:\n",
    "    print('TSD is not Stationary')\n",
    "print( 'Critical Values:' )\n",
    "for k, v in adf_result[4].items():\n",
    "    print( f' {k} : {v} ' )"
   ]
  },
  {
   "cell_type": "code",
   "execution_count": null,
   "metadata": {},
   "outputs": [],
   "source": [
    "print('-------------------------------------------------------')\n",
    "print('Sub_metering_3')\n",
    "adf_result = adfuller(new_df.Sub_metering_3)\n",
    "print('ADF Statistic:', adf_result[0])\n",
    "print('p-value:', adf_result[1])\n",
    "print('No. of lags used:', adf_result[2])\n",
    "print('No. of observations used :', adf_result[3])\n",
    "if adf_result[1] < 0.05:\n",
    "    print('TSD is Stationary')\n",
    "else:\n",
    "    print('TSD is not Stationary')\n",
    "print( 'Critical Values:' )\n",
    "for k, v in adf_result[4].items():\n",
    "    print( f' {k} : {v} ' )"
   ]
  },
  {
   "cell_type": "markdown",
   "metadata": {},
   "source": [
    "All TSDs are Stationary"
   ]
  },
  {
   "cell_type": "markdown",
   "metadata": {},
   "source": [
    "### Creating the Model"
   ]
  },
  {
   "cell_type": "code",
   "execution_count": null,
   "metadata": {},
   "outputs": [],
   "source": [
    "new_df.reset_index(inplace=True)\n",
    "prohp_df = new_df[['datetime', 'Global_active_power']]\n",
    "\n",
    "prohp_df"
   ]
  },
  {
   "cell_type": "markdown",
   "metadata": {},
   "source": [
    "#### Train Test Split"
   ]
  },
  {
   "cell_type": "code",
   "execution_count": null,
   "metadata": {},
   "outputs": [],
   "source": [
    "train_df = prohp_df.iloc[:1077, :]\n",
    "test_df = prohp_df.iloc[1077:, :]\n",
    "test_df"
   ]
  },
  {
   "cell_type": "code",
   "execution_count": null,
   "metadata": {},
   "outputs": [],
   "source": [
    "model = Prophet()\n",
    "model.fit(train_df)\n",
    "forecast = model.predict(test_df)"
   ]
  },
  {
   "cell_type": "markdown",
   "metadata": {},
   "source": [
    "#### Calculating Metrics"
   ]
  },
  {
   "cell_type": "code",
   "execution_count": null,
   "metadata": {},
   "outputs": [],
   "source": [
    "# Mean Absolute Percentage Error\n",
    "from sklearn.metrics import mean_absolute_percentage_error, mean_squared_error\n",
    "mape = mean_absolute_percentage_error(test_df, forecast)\n",
    "print('%.2f'%mape, 'MAPE')\n",
    "\n",
    "# Root Mean Squared Error\n",
    "rmse = np.sqrt(mean_squared_error(np.array(test_df), np.array(forecast)))\n",
    "print('%.2f'%rmse, 'RMSE')"
   ]
  },
  {
   "cell_type": "code",
   "execution_count": null,
   "metadata": {},
   "outputs": [],
   "source": [
    "model.plot_components(forecast)"
   ]
  },
  {
   "cell_type": "markdown",
   "metadata": {},
   "source": [
    "August has the lowest value"
   ]
  },
  {
   "cell_type": "markdown",
   "metadata": {},
   "source": [
    "#### Multivariate Train test split"
   ]
  },
  {
   "cell_type": "code",
   "execution_count": null,
   "metadata": {},
   "outputs": [],
   "source": [
    "multi = new_df.rename(columns = {'datetime':'ds','Global_active_power':'y','Global_reactive_power':'add1',\n",
    "                                                'Voltage':'add2','Global_intensity':'add3','Sub_metering_1':'add4',\n",
    "                                                'Sub_metering_2':'add5','Sub_metering_3':'add6'})"
   ]
  },
  {
   "cell_type": "code",
   "execution_count": null,
   "metadata": {},
   "outputs": [],
   "source": [
    "multi_train_df = multi.iloc[:1077,:]\n",
    "multi_test_df = multi.iloc[1077:,:]\n",
    "multi_test_df"
   ]
  },
  {
   "cell_type": "code",
   "execution_count": null,
   "metadata": {},
   "outputs": [],
   "source": [
    "model_2 = Prophet()\n",
    "model_2.add_regressor('add1')\n",
    "model_2.add_regressor('add2')\n",
    "model_2.add_regressor('add3')\n",
    "model_2.add_regressor('add4')\n",
    "model_2.add_regressor('add5')\n",
    "model_2.add_regressor('add6')\n",
    "\n",
    "model_2.fit(multi_train_df)"
   ]
  },
  {
   "cell_type": "code",
   "execution_count": null,
   "metadata": {},
   "outputs": [],
   "source": [
    "# making forecasts\n",
    "forecasts = model_2.predict(multi_test_df)"
   ]
  },
  {
   "cell_type": "markdown",
   "metadata": {},
   "source": [
    "#### Metrics"
   ]
  },
  {
   "cell_type": "code",
   "execution_count": null,
   "metadata": {},
   "outputs": [],
   "source": [
    "# Mean Absolute Percentage Error\n",
    "from sklearn.metrics import mean_absolute_percentage_error, mean_squared_error\n",
    "mape = mean_absolute_percentage_error(multi_test_df, forecasts)\n",
    "print('%.2f'%mape, 'MAPE')\n",
    "\n",
    "# Root Mean Squared Error\n",
    "rmse = np.sqrt(mean_squared_error(np.array(multi_test_df), np.array(forecasts)))\n",
    "print('%.2f'%rmse, 'RMSE')"
   ]
  },
  {
   "cell_type": "code",
   "execution_count": null,
   "metadata": {},
   "outputs": [],
   "source": [
    "model_2.plot_components(forecasts)"
   ]
  },
  {
   "cell_type": "markdown",
   "metadata": {},
   "source": [
    "Tuesday has the lowest value"
   ]
  }
 ],
 "metadata": {
  "interpreter": {
   "hash": "d738b20eac342131b0d59ab64ae276343fef1e186b108721a531750e667fb290"
  },
  "kernelspec": {
   "display_name": "Python 3.7.9 64-bit",
   "name": "python3"
  },
  "language_info": {
   "codemirror_mode": {
    "name": "ipython",
    "version": 3
   },
   "file_extension": ".py",
   "mimetype": "text/x-python",
   "name": "python",
   "nbconvert_exporter": "python",
   "pygments_lexer": "ipython3",
   "version": "3.7.9"
  },
  "orig_nbformat": 4
 },
 "nbformat": 4,
 "nbformat_minor": 2
}
